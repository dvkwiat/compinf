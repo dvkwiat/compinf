{
 "cells": [
  {
   "cell_type": "code",
   "execution_count": 1,
   "metadata": {},
   "outputs": [
    {
     "name": "stdout",
     "output_type": "stream",
     "text": [
      "Running zTree Images\n",
      "Created seller_decision_screen.tex\n",
      "Created buyer_decision_screen.tex\n"
     ]
    }
   ],
   "source": [
    "#--------------------zTree images--------------------#\n",
    "\n",
    "print('Running zTree Images')\n",
    "\n",
    "tex_code = r\"\"\"\n",
    "\\begin{figure}[h]\n",
    "    \\centering\n",
    "    \\includegraphics[width=0.8\\textwidth]{../output/zTree Images/seller decision.png}\n",
    "    \\caption{Seller Decision Screen}\n",
    "    \\label{seller_decision_screen}\n",
    "\\end{figure}\n",
    "\"\"\"\n",
    "\n",
    "with open(\"../output/zTree Images/seller_decision_screen.tex\", \"w\") as file:\n",
    "    file.write(tex_code)\n",
    "print('Created seller_decision_screen.tex')\n",
    "    \n",
    "tex_code = r\"\"\"\n",
    "\\begin{figure}[h]\n",
    "    \\centering\n",
    "    \\includegraphics[width=0.8\\textwidth]{../output/zTree Images/buyer decision.png}\n",
    "    \\caption{Buyer Decision Screen}\n",
    "    \\label{buyer_decision_screen}\n",
    "\\end{figure}\n",
    "\"\"\"\n",
    "\n",
    "with open(\"../output/zTree Images/buyer_decision_screen.tex\", \"w\") as file:\n",
    "    file.write(tex_code)\n",
    "print('Created buyer_decision_screen.tex')\n",
    "print('\\n')\n"
   ]
  },
  {
   "cell_type": "code",
   "execution_count": null,
   "metadata": {},
   "outputs": [],
   "source": []
  }
 ],
 "metadata": {
  "kernelspec": {
   "display_name": "Python 3",
   "language": "python",
   "name": "python3"
  },
  "language_info": {
   "codemirror_mode": {
    "name": "ipython",
    "version": 3
   },
   "file_extension": ".py",
   "mimetype": "text/x-python",
   "name": "python",
   "nbconvert_exporter": "python",
   "pygments_lexer": "ipython3",
   "version": "3.8.5"
  }
 },
 "nbformat": 4,
 "nbformat_minor": 4
}
